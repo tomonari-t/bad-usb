{
 "cells": [
  {
   "cell_type": "code",
   "execution_count": 17,
   "metadata": {},
   "outputs": [],
   "source": [
    "key_map = {\n",
    "    'a': 0x1c,\n",
    "    'b': 0x32,\n",
    "    'c': 0x21,\n",
    "    'd': 0x23,\n",
    "    'e': 0x24,\n",
    "    'f': 0x2b,\n",
    "    'g': 0x34,\n",
    "    'h': 0x33,\n",
    "    'i': 0x43,\n",
    "    'j': 0x3b,\n",
    "    'k': 0x42,\n",
    "    'l': 0x4b,\n",
    "    'm': 0x3a,\n",
    "    'n': 0x31,\n",
    "    'o': 0x44,\n",
    "    'p': 0x4d,\n",
    "    'q': 0x15,\n",
    "    'r': 0x2d,\n",
    "    's': 0x1b,\n",
    "    't': 0x2c,\n",
    "    'u': 0x3c,\n",
    "    'v': 0x2a,\n",
    "    'w': 0x1d,\n",
    "    'x': 0x22,\n",
    "    'y': 0x35,\n",
    "    'z': 0x1a,\n",
    "    '1': 0x16,\n",
    "    '2': 0x1e,\n",
    "    '3': 0x26,\n",
    "    '4': 0x25,\n",
    "    '5': 0x2e,\n",
    "    '6': 0x36,\n",
    "    '7': 0x3d,\n",
    "    '8': 0x3e,\n",
    "    '9': 0x46,\n",
    "    '0': 0x45,\n",
    "    ' ': 0x29,\n",
    "    '.': 0x49,\n",
    "    ',': 0x41,\n",
    "    ';': 0x4c,\n",
    "    '\\'': 0x52,\n",
    "    '[': 0x54,\n",
    "    ']': 0x5b,\n",
    "    '-': 0x4e,\n",
    "    '=': 0x55,\n",
    "    '\\\\': 0x5d,\n",
    "    '/': 0x4a,\n",
    "    '`': 0x0e,\n",
    "    '\\t': 0x0d,\n",
    "    '\\n': 0x5a,\n",
    "}\n",
    "\n",
    "shift_trans = str.maketrans(\n",
    "    '~!@#$%^&*()_+QWERTYUIOP{}|ASDFGHJKL:\"ZXCVBNM<>?',\n",
    "    '`1234567890-=qwertyuiop[]\\\\asdfghjkl;\\'zxcvbnm,./'\n",
    ")"
   ]
  },
  {
   "cell_type": "code",
   "execution_count": 24,
   "metadata": {},
   "outputs": [],
   "source": [
    "input_str = 't_wada_generator'"
   ]
  },
  {
   "cell_type": "code",
   "execution_count": 25,
   "metadata": {},
   "outputs": [
    {
     "name": "stdout",
     "output_type": "stream",
     "text": [
      "  0x2c, 0xf0, 0x2c, 0xf1,  // 't'\n",
      "  0x12, 0x4e, 0xf0, 0x4e, 0xf0, 0x12, 0xf1,  // '_'\n",
      "  0x1d, 0xf0, 0x1d, 0xf1,  // 'w'\n",
      "  0x1c, 0xf0, 0x1c, 0xf1,  // 'a'\n",
      "  0x23, 0xf0, 0x23, 0xf1,  // 'd'\n",
      "  0x1c, 0xf0, 0x1c, 0xf1,  // 'a'\n",
      "  0x12, 0x4e, 0xf0, 0x4e, 0xf0, 0x12, 0xf1,  // '_'\n",
      "  0x34, 0xf0, 0x34, 0xf1,  // 'g'\n",
      "  0x24, 0xf0, 0x24, 0xf1,  // 'e'\n",
      "  0x31, 0xf0, 0x31, 0xf1,  // 'n'\n",
      "  0x24, 0xf0, 0x24, 0xf1,  // 'e'\n",
      "  0x2d, 0xf0, 0x2d, 0xf1,  // 'r'\n",
      "  0x1c, 0xf0, 0x1c, 0xf1,  // 'a'\n",
      "  0x2c, 0xf0, 0x2c, 0xf1,  // 't'\n",
      "  0x44, 0xf0, 0x44, 0xf1,  // 'o'\n",
      "  0x2d, 0xf0, 0x2d, 0xf1,  // 'r'\n"
     ]
    }
   ],
   "source": [
    "shift_hex = 0x12\n",
    "break_hex = 0xf0\n",
    "wait_hex = 0xF1\n",
    "for c in input_str:\n",
    "    hexs = []\n",
    "    need_shift = c != c.translate(shift_trans)\n",
    "    c_hex = key_map[c.translate(shift_trans) if need_shift else c]\n",
    "    \n",
    "    if need_shift:\n",
    "        hexs.append(shift_hex)\n",
    "    hexs.append(c_hex)\n",
    "    hexs.append(break_hex)\n",
    "    hexs.append(c_hex)\n",
    "    if need_shift:\n",
    "        hexs.append(break_hex)\n",
    "        hexs.append(shift_hex)\n",
    "    hexs.append(wait_hex)\n",
    "    print('  ' + ', '.join(map(hex, hexs)) + \",  // '%s'\" % ('\\\\n' if c=='\\n' else c))"
   ]
  },
  {
   "cell_type": "code",
   "execution_count": null,
   "metadata": {},
   "outputs": [],
   "source": []
  },
  {
   "cell_type": "code",
   "execution_count": null,
   "metadata": {},
   "outputs": [],
   "source": []
  }
 ],
 "metadata": {
  "kernelspec": {
   "display_name": "Python 3",
   "language": "python",
   "name": "python3"
  },
  "language_info": {
   "codemirror_mode": {
    "name": "ipython",
    "version": 3
   },
   "file_extension": ".py",
   "mimetype": "text/x-python",
   "name": "python",
   "nbconvert_exporter": "python",
   "pygments_lexer": "ipython3",
   "version": "3.6.4"
  }
 },
 "nbformat": 4,
 "nbformat_minor": 2
}
